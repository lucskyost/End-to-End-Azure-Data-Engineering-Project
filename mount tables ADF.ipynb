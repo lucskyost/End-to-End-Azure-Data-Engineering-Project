{
 "cells": [
  {
   "cell_type": "code",
   "execution_count": 0,
   "metadata": {
    "application/vnd.databricks.v1+cell": {
     "cellMetadata": {},
     "inputWidgets": {},
     "nuid": "167894ed-bbbf-4057-92a9-645f6b92ffd9",
     "showTitle": false,
     "tableResultSettingsMap": {},
     "title": ""
    }
   },
   "outputs": [
    {
     "output_type": "stream",
     "name": "stdout",
     "output_type": "stream",
     "text": [
      "Out[25]: [MountInfo(mountPoint='/databricks-datasets', source='databricks-datasets', encryptionType=''),\n MountInfo(mountPoint='/databricks/mlflow-tracking', source='databricks/mlflow-tracking', encryptionType='sse-s3'),\n MountInfo(mountPoint='/databricks-results', source='databricks-results', encryptionType='sse-s3'),\n MountInfo(mountPoint='/databricks/mlflow-registry', source='databricks/mlflow-registry', encryptionType='sse-s3'),\n MountInfo(mountPoint='/', source='DatabricksRoot', encryptionType='sse-s3')]"
     ]
    }
   ],
   "source": [
    "# dbutils.fs.unmount('/mnt/layer-1')\n",
    "# dbutils.fs.mounts()\n"
   ]
  },
  {
   "cell_type": "code",
   "execution_count": 0,
   "metadata": {
    "application/vnd.databricks.v1+cell": {
     "cellMetadata": {},
     "inputWidgets": {},
     "nuid": "70d8ae3d-2369-458f-8306-c71b696230ac",
     "showTitle": false,
     "tableResultSettingsMap": {},
     "title": ""
    }
   },
   "outputs": [
    {
     "output_type": "stream",
     "name": "stdout",
     "output_type": "stream",
     "text": [
      "Mount successful\n"
     ]
    }
   ],
   "source": [
    "##Access storage account with SAS Token\n",
    "# sas_token = \"sv=2022-11-02&ss=bfqt&srt=sco&sp=rwdlacupyx&se=2025-01-28T07:39:00Z&st=2024-12-27T23:39:00Z&spr=https&sig=%2FJNdOoh%2FRA3orafK65bIbvh0jXUMCcAWLzKQkeWhjdM%3D\"\n",
    "\n",
    "# # Define configurations for Blob Storage\n",
    "# storage_account_name = \"azuredatafactorygen2\"\n",
    "# container_name = \"layer-1\"\n",
    "\n",
    "# # Define mount configurations\n",
    "# configs = {\n",
    "#     f\"fs.azure.sas.{container_name}.{storage_account_name}.blob.core.windows.net\": sas_token\n",
    "# }\n",
    "\n",
    "# # Mount the Blob Storage container to Databricks\n",
    "# dbutils.fs.mount(\n",
    "#     source = f\"wasbs://{container_name}@{storage_account_name}.blob.core.windows.net/\",\n",
    "#     mount_point = \"/mnt/layer-1\",  # This is the location in DBFS where you want to mount\n",
    "#     extra_configs = configs\n",
    "# )\n",
    "# print(\"Mount successful\")\n",
    "\n",
    "\n"
   ]
  },
  {
   "cell_type": "markdown",
   "metadata": {
    "application/vnd.databricks.v1+cell": {
     "cellMetadata": {},
     "inputWidgets": {},
     "nuid": "c17a527e-1df1-45f1-b603-04ff93a13dd3",
     "showTitle": false,
     "tableResultSettingsMap": {},
     "title": ""
    }
   },
   "source": [
    "Mount Layer 1 - Storage raw data of Azure data factory"
   ]
  },
  {
   "cell_type": "code",
   "execution_count": 0,
   "metadata": {
    "application/vnd.databricks.v1+cell": {
     "cellMetadata": {
      "byteLimit": 2048000,
      "rowLimit": 10000
     },
     "inputWidgets": {},
     "nuid": "d5082cbf-3bea-463d-8d7f-336d6a36aafc",
     "showTitle": false,
     "tableResultSettingsMap": {},
     "title": ""
    }
   },
   "outputs": [],
   "source": [
    "#Access storage acount with Key\n",
    "# Define the storage account details\n",
    "storage_account_name = \"azuredatafactorygen2\"\n",
    "container_name = \"layer-1\"\n",
    "access_key = \"zYIUJ/Lh3Y5z5XfthDpw2CDx6laruMui1xyoe0PIi7omXlv5Aupq1K5Eel3vh+Ez55vpre/I47YA+AStaqvK0Q==\"\n",
    "\n",
    "# Define mount configurations using the storage account key\n",
    "configs = {\n",
    "    f\"fs.azure.account.key.{storage_account_name}.blob.core.windows.net\": access_key\n",
    "}\n",
    "\n",
    "# Mount the Blob Storage container to Databricks\n",
    "dbutils.fs.mount(\n",
    "    source = f\"wasbs://{container_name}@{storage_account_name}.blob.core.windows.net/\",\n",
    "    mount_point = \"/mnt/layer-1\",  # This is the location in DBFS where you want to mount\n",
    "    extra_configs = configs\n",
    ")\n",
    "\n",
    "\n",
    "\n"
   ]
  },
  {
   "cell_type": "code",
   "execution_count": 0,
   "metadata": {
    "application/vnd.databricks.v1+cell": {
     "cellMetadata": {
      "byteLimit": 2048000,
      "rowLimit": 10000
     },
     "inputWidgets": {},
     "nuid": "70e2a666-cc8a-43bd-ba29-d229715c2bdb",
     "showTitle": false,
     "tableResultSettingsMap": {},
     "title": ""
    }
   },
   "outputs": [
    {
     "output_type": "execute_result",
     "data": {
      "text/plain": [
       "[FileInfo(path='dbfs:/mnt/layer-1/SalesLT/Address/', name='Address/', size=0, modificationTime=0),\n",
       " FileInfo(path='dbfs:/mnt/layer-1/SalesLT/Customer/', name='Customer/', size=0, modificationTime=0),\n",
       " FileInfo(path='dbfs:/mnt/layer-1/SalesLT/CustomerAddress/', name='CustomerAddress/', size=0, modificationTime=0),\n",
       " FileInfo(path='dbfs:/mnt/layer-1/SalesLT/Product/', name='Product/', size=0, modificationTime=0),\n",
       " FileInfo(path='dbfs:/mnt/layer-1/SalesLT/ProductCategory/', name='ProductCategory/', size=0, modificationTime=0),\n",
       " FileInfo(path='dbfs:/mnt/layer-1/SalesLT/ProductDescription/', name='ProductDescription/', size=0, modificationTime=0),\n",
       " FileInfo(path='dbfs:/mnt/layer-1/SalesLT/ProductModel/', name='ProductModel/', size=0, modificationTime=0),\n",
       " FileInfo(path='dbfs:/mnt/layer-1/SalesLT/ProductModelProductDescription/', name='ProductModelProductDescription/', size=0, modificationTime=0),\n",
       " FileInfo(path='dbfs:/mnt/layer-1/SalesLT/SalesOrderDetail/', name='SalesOrderDetail/', size=0, modificationTime=0),\n",
       " FileInfo(path='dbfs:/mnt/layer-1/SalesLT/SalesOrderHeader/', name='SalesOrderHeader/', size=0, modificationTime=0)]"
      ]
     },
     "execution_count": 6,
     "metadata": {},
     "output_type": "execute_result"
    }
   ],
   "source": [
    "dbutils.fs.ls(\"/mnt/layer-1/SalesLT\")"
   ]
  },
  {
   "cell_type": "markdown",
   "metadata": {
    "application/vnd.databricks.v1+cell": {
     "cellMetadata": {},
     "inputWidgets": {},
     "nuid": "fb21ef60-7eea-430b-b0a5-e126cc0b9ff6",
     "showTitle": false,
     "tableResultSettingsMap": {},
     "title": ""
    }
   },
   "source": [
    "Mount Layer 2 - Storage clean data of Databricks"
   ]
  },
  {
   "cell_type": "code",
   "execution_count": 0,
   "metadata": {
    "application/vnd.databricks.v1+cell": {
     "cellMetadata": {
      "byteLimit": 2048000,
      "rowLimit": 10000
     },
     "inputWidgets": {},
     "nuid": "de2ce85c-dc57-4975-88c5-b87720626c92",
     "showTitle": false,
     "tableResultSettingsMap": {},
     "title": ""
    }
   },
   "outputs": [
    {
     "output_type": "execute_result",
     "data": {
      "text/plain": [
       "True"
      ]
     },
     "execution_count": 11,
     "metadata": {},
     "output_type": "execute_result"
    }
   ],
   "source": [
    "#Access storage acount with Key\n",
    "# Define the storage account details\n",
    "storage_account_name = \"azuredatafactorygen2\"\n",
    "container_name = \"layer-2\"\n",
    "access_key = \"zYIUJ/Lh3Y5z5XfthDpw2CDx6laruMui1xyoe0PIi7omXlv5Aupq1K5Eel3vh+Ez55vpre/I47YA+AStaqvK0Q==\"\n",
    "\n",
    "# Define mount configurations using the storage account key\n",
    "configs = {\n",
    "    f\"fs.azure.account.key.{storage_account_name}.blob.core.windows.net\": access_key\n",
    "}\n",
    "\n",
    "# Mount the Blob Storage container to Databricks\n",
    "dbutils.fs.mount(\n",
    "    source = f\"wasbs://{container_name}@{storage_account_name}.blob.core.windows.net/\",\n",
    "    mount_point = \"/mnt/layer-2\",  # This is the location in DBFS where you want to mount\n",
    "    extra_configs = configs\n",
    ")\n",
    "\n",
    "\n",
    "\n"
   ]
  }
 ],
 "metadata": {
  "application/vnd.databricks.v1+notebook": {
   "computePreferences": null,
   "dashboards": [],
   "environmentMetadata": {
    "base_environment": "",
    "client": "1"
   },
   "language": "python",
   "notebookMetadata": {
    "pythonIndentUnit": 4
   },
   "notebookName": "mount tables ADF",
   "widgets": {}
  },
  "language_info": {
   "name": "python"
  }
 },
 "nbformat": 4,
 "nbformat_minor": 0
}